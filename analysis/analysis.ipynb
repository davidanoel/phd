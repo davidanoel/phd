{
 "cells": [
  {
   "cell_type": "code",
   "execution_count": null,
   "metadata": {},
   "outputs": [],
   "source": [
    "#refactor to plot all policies using one function with proper titles\n",
    "def plot_combined_history(histories,training=True,validation=True):\n",
    "    #epochs = range(1, EPOCHS+1)\n",
    "    if training==True and validation==False:\n",
    "        title = \"Training for all policies\"\n",
    "    elif training==False and validation==True:\n",
    "        title = \"Validation for all policies\" #or another title is Accuracy curves on the validation set for all policies\n",
    "    else:\n",
    "        title = \"Training and Validation for all policies\"\n",
    "    fig, (ax1, ax2) = plt.subplots(1, 2, sharex=True, figsize=(10, 6))\n",
    "    fig.suptitle(title)\n",
    "    for i,history in enumerate(histories):\n",
    "        policy = history.history[\"policy\"][0]\n",
    "        label_train = f\"train - policy {policy}\"\n",
    "        label_val = f\"val - policy {policy}\"\n",
    "        ax1.set_title(\"Model Loss\")\n",
    "        ax1.plot(history.history[\"loss\"],label=label_train) if training else None\n",
    "        ax1.plot(history.history[\"val_loss\"],\"--\",label=label_val) if validation else None\n",
    "        #ax1.legend([label_train, label_val], loc=\"best\")\n",
    "        ax1.legend()\n",
    "        ax1.set_xlabel(\"Epochs\")\n",
    "        ax1.set_ylabel(\"Loss\")\n",
    "        #ax1.set_ylim([0, 7.0])\n",
    "        #ax1.set_ylim(0, 4)\n",
    "        # plot accuracy during training\n",
    "        ax2.set_title(\"Model Accuracy\")\n",
    "        ax2.plot(history.history[\"accuracy\"], label=label_train) if training else None\n",
    "        ax2.plot(history.history[\"val_accuracy\"], \"--\",label=label_val) if validation else None\n",
    "        #ax2.legend([label_train, label_val], loc=\"best\")\n",
    "        ax2.legend()\n",
    "        ax2.set_xlabel(\"Epochs\")\n",
    "        ax2.set_ylabel(\"Accuracy\")\n",
    "        #ax2.set_ylim(0, 1)\n",
    "    #plt.xticks(np.arange(0, EPOCHS +1, 10))\n",
    "    plt.savefig(FOLDER + \"/{}_{}_combined_plot.png\".format(DATASET_NAME,NETWORK))\n",
    "    plt.show()"
   ]
  },
  {
   "cell_type": "code",
   "execution_count": null,
   "metadata": {},
   "outputs": [],
   "source": [
    "# plot loss and accuracy for all policies\n",
    "plot_combined_history(train_history)\n",
    "plot_combined_history(train_history, training=False,validation=True)"
   ]
  }
 ],
 "metadata": {
  "language_info": {
   "name": "python"
  },
  "orig_nbformat": 4
 },
 "nbformat": 4,
 "nbformat_minor": 2
}
